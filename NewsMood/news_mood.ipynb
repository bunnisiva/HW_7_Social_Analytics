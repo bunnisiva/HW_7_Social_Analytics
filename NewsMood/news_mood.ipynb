{
 "cells": [
  {
   "cell_type": "markdown",
   "metadata": {},
   "source": [
    "## news_mood.py \n",
    "----\n",
    "The below code is meant to provide a cursory look at the world mood according to the Twitter profiles of news agencies. In essence, the script allows one to quickly perform a sentiment analysis on the most recent tweets of any given Twitter accounts and plot the results. Notable libraries used to complete this application include: Matplotlib, Pandas, Tweepy, VADER Sentiment Analysis, and Seaborn."
   ]
  },
  {
   "cell_type": "code",
   "execution_count": 63,
   "metadata": {},
   "outputs": [],
   "source": [
    "# Dependencies\n",
    "%matplotlib inline\n",
    "import numpy as np\n",
    "import pandas as pd\n",
    "import matplotlib.pyplot as plt\n",
    "import json\n",
    "import tweepy\n",
    "import time\n",
    "import warnings\n",
    "import seaborn as sns\n",
    "warnings.filterwarnings(\"ignore\")\n"
   ]
  },
  {
   "cell_type": "code",
   "execution_count": 2,
   "metadata": {},
   "outputs": [],
   "source": [
    "\n",
    "\n",
    "\n",
    "# Initialize Sentiment Analyzer \n",
    "from textblob import TextBlob\n",
    "from vaderSentiment.vaderSentiment import SentimentIntensityAnalyzer\n",
    "analyzer = SentimentIntensityAnalyzer()\n",
    "\n",
    "#Twitter Api keys \n",
    "consumer_key = \"q0lLgCzfoHzGBBxV1NpmzNnI7\"\n",
    "consumer_secret = \"3DDnb6tRhPeB9xjzzTwYI9XzHe2hgPbI4P9ypR6NCjIBqY94Wz\"\n",
    "\n",
    "access_token = \"1019763266854125568-BJ2cmUx6WgEgWpcDejVLWwlTc8k0KH\"\n",
    "access_token_secret = \"Gk1bTWKfkBQhcToU3szR3r6EsyYXjxhjCwfFjQGa13sgt\"\n",
    "\n"
   ]
  },
  {
   "cell_type": "code",
   "execution_count": 4,
   "metadata": {},
   "outputs": [],
   "source": [
    "# Setup Tweepy API Authentication\n",
    "auth = tweepy.OAuthHandler(consumer_key, consumer_secret)\n",
    "auth.set_access_token(access_token, access_token_secret)\n",
    "api = tweepy.API(auth, parser=tweepy.parsers.JSONParser())\n",
    "\n",
    "# Select News Sources (Twitter Accounts)\n",
    "news_source = [\"CNN\", \"FOX\", \"BBCWorld\", \"CBSNews\", \"nytimes\"]"
   ]
  },
  {
   "cell_type": "markdown",
   "metadata": {},
   "source": [
    "## Grab Tweets"
   ]
  },
  {
   "cell_type": "code",
   "execution_count": 12,
   "metadata": {
    "scrolled": false
   },
   "outputs": [],
   "source": [
    "# Create a generic dictionary for holding all tweet information\n",
    "tweet_data = {\n",
    "    \"tweet_source\": [],\n",
    "    \"tweet_text\": [],\n",
    "    \"tweet_date\": [] }\n",
    "vader_anal = {\"tweet_vader_score\": [],\n",
    "    \"tweet_neg_score\": [],\n",
    "    \"tweet_pos_score\": [],\n",
    "    \"tweet_neu_score\": []\n",
    "}\n",
    "\n",
    "# Grab 200 tweets from each site (total 1000)\n",
    "for x in range(0,len(news_source)):\n",
    "\n",
    "    # Loop through all news sources... which are CNN,FOX, etc to get mthe 200 tweets \n",
    "    for source in news_source:\n",
    "\n",
    "        # Grab the tweets\n",
    "        tweets = api.user_timeline(source, page=x)\n",
    "        #print(tweets)\n",
    "\n",
    "         # For each tweet store it into the dictionary\n",
    "        for tweet in tweets:\n",
    "            \n",
    "            # All data is grabbed from the JSON returned by Twitter\n",
    "            tweet_data[\"tweet_source\"].append(tweet[\"user\"][\"name\"])\n",
    "            tweet_data[\"tweet_text\"].append(tweet[\"text\"])\n",
    "            tweet_data[\"tweet_date\"].append(tweet[\"created_at\"])\n",
    "\n",
    "            vader_anal[\"tweet_vader_score\"].append(analyzer.polarity_scores(tweet[\"text\"])[\"compound\"])\n",
    "            vader_anal[\"tweet_pos_score\"].append(analyzer.polarity_scores(tweet[\"text\"])[\"pos\"])\n",
    "            vader_anal[\"tweet_neu_score\"].append(analyzer.polarity_scores(tweet[\"text\"])[\"neu\"])\n",
    "            vader_anal[\"tweet_neg_score\"].append(analyzer.polarity_scores(tweet[\"text\"])[\"neg\"])"
   ]
  },
  {
   "cell_type": "code",
   "execution_count": 138,
   "metadata": {},
   "outputs": [
    {
     "data": {
      "text/html": [
       "<div>\n",
       "<style scoped>\n",
       "    .dataframe tbody tr th:only-of-type {\n",
       "        vertical-align: middle;\n",
       "    }\n",
       "\n",
       "    .dataframe tbody tr th {\n",
       "        vertical-align: top;\n",
       "    }\n",
       "\n",
       "    .dataframe thead th {\n",
       "        text-align: right;\n",
       "    }\n",
       "</style>\n",
       "<table border=\"1\" class=\"dataframe\">\n",
       "  <thead>\n",
       "    <tr style=\"text-align: right;\">\n",
       "      <th></th>\n",
       "      <th>tweet_vader_score</th>\n",
       "      <th>tweet_neg_score</th>\n",
       "      <th>tweet_pos_score</th>\n",
       "      <th>tweet_neu_score</th>\n",
       "      <th>tweet_source</th>\n",
       "      <th>tweet_text</th>\n",
       "      <th>tweet_date</th>\n",
       "    </tr>\n",
       "  </thead>\n",
       "  <tbody>\n",
       "    <tr>\n",
       "      <th>0</th>\n",
       "      <td>0.000</td>\n",
       "      <td>0.0</td>\n",
       "      <td>0.000</td>\n",
       "      <td>1.000</td>\n",
       "      <td>CNN</td>\n",
       "      <td>¡Ay, caramba! A real-life Kwik-E-Mart store ha...</td>\n",
       "      <td>Wed Aug 22 00:44:09 +0000 2018</td>\n",
       "    </tr>\n",
       "    <tr>\n",
       "      <th>1</th>\n",
       "      <td>0.000</td>\n",
       "      <td>0.0</td>\n",
       "      <td>0.000</td>\n",
       "      <td>1.000</td>\n",
       "      <td>CNN</td>\n",
       "      <td>This family has been traveling the globe by sa...</td>\n",
       "      <td>Wed Aug 22 00:41:00 +0000 2018</td>\n",
       "    </tr>\n",
       "    <tr>\n",
       "      <th>2</th>\n",
       "      <td>0.128</td>\n",
       "      <td>0.0</td>\n",
       "      <td>0.057</td>\n",
       "      <td>0.943</td>\n",
       "      <td>CNN</td>\n",
       "      <td>RT @OutFrontCNN: \"I think when the President a...</td>\n",
       "      <td>Wed Aug 22 00:37:32 +0000 2018</td>\n",
       "    </tr>\n",
       "    <tr>\n",
       "      <th>3</th>\n",
       "      <td>0.000</td>\n",
       "      <td>0.0</td>\n",
       "      <td>0.000</td>\n",
       "      <td>1.000</td>\n",
       "      <td>CNN</td>\n",
       "      <td>Cowabunga! A real-life Kwik-E-Mart store has o...</td>\n",
       "      <td>Wed Aug 22 00:26:43 +0000 2018</td>\n",
       "    </tr>\n",
       "    <tr>\n",
       "      <th>4</th>\n",
       "      <td>0.000</td>\n",
       "      <td>0.0</td>\n",
       "      <td>0.000</td>\n",
       "      <td>1.000</td>\n",
       "      <td>CNN</td>\n",
       "      <td>Ep3 of “RBG: Beyond Notorious” takes us back t...</td>\n",
       "      <td>Wed Aug 22 00:25:21 +0000 2018</td>\n",
       "    </tr>\n",
       "  </tbody>\n",
       "</table>\n",
       "</div>"
      ],
      "text/plain": [
       "   tweet_vader_score  tweet_neg_score  tweet_pos_score  tweet_neu_score  \\\n",
       "0              0.000              0.0            0.000            1.000   \n",
       "1              0.000              0.0            0.000            1.000   \n",
       "2              0.128              0.0            0.057            0.943   \n",
       "3              0.000              0.0            0.000            1.000   \n",
       "4              0.000              0.0            0.000            1.000   \n",
       "\n",
       "  tweet_source                                         tweet_text  \\\n",
       "0          CNN  ¡Ay, caramba! A real-life Kwik-E-Mart store ha...   \n",
       "1          CNN  This family has been traveling the globe by sa...   \n",
       "2          CNN  RT @OutFrontCNN: \"I think when the President a...   \n",
       "3          CNN  Cowabunga! A real-life Kwik-E-Mart store has o...   \n",
       "4          CNN  Ep3 of “RBG: Beyond Notorious” takes us back t...   \n",
       "\n",
       "                       tweet_date  \n",
       "0  Wed Aug 22 00:44:09 +0000 2018  \n",
       "1  Wed Aug 22 00:41:00 +0000 2018  \n",
       "2  Wed Aug 22 00:37:32 +0000 2018  \n",
       "3  Wed Aug 22 00:26:43 +0000 2018  \n",
       "4  Wed Aug 22 00:25:21 +0000 2018  "
      ]
     },
     "execution_count": 138,
     "metadata": {},
     "output_type": "execute_result"
    }
   ],
   "source": [
    "# Store the final contents into a DataFrame after joining two dataframes at column axis , vader anal df and tweet_data df.\n",
    "vader_anal_df = pd.DataFrame(vader_anal)\n",
    "tweet_data_df = pd.DataFrame(tweet_data)\n",
    "my_tweet_df = pd.concat([vader_anal_df,tweet_data_df], axis=1, join='outer', join_axes=None, ignore_index=False,\n",
    "          keys=None, levels=None, names=None, verify_integrity=False,\n",
    "          copy=True)\n",
    "\n",
    "\n",
    "# # Export to CSV\n",
    "file_name = str(time.strftime(\"%m-%d-%y\")) + \"-tweets.csv\"\n",
    "my_tweet_df.to_csv(\"./\" + file_name, encoding=\"utf-8\")\n",
    "\n",
    "# # Visualize the DataFrame\n",
    "my_tweet_df.head()"
   ]
  },
  {
   "cell_type": "code",
   "execution_count": 58,
   "metadata": {},
   "outputs": [
    {
     "data": {
      "text/plain": [
       "tweet_vader_score    500\n",
       "tweet_neg_score      500\n",
       "tweet_pos_score      500\n",
       "tweet_neu_score      500\n",
       "tweet_source         500\n",
       "tweet_text           500\n",
       "tweet_date           500\n",
       "dtype: int64"
      ]
     },
     "execution_count": 58,
     "metadata": {},
     "output_type": "execute_result"
    }
   ],
   "source": [
    "# Count the total number of tweets\n",
    "my_tweet_df.count()"
   ]
  },
  {
   "cell_type": "code",
   "execution_count": 59,
   "metadata": {},
   "outputs": [
    {
     "data": {
      "text/plain": [
       "array(['CNN', 'fantastic ms.', 'BBC News (World)', 'CBS News',\n",
       "       'The New York Times'], dtype=object)"
      ]
     },
     "execution_count": 59,
     "metadata": {},
     "output_type": "execute_result"
    }
   ],
   "source": [
    "# Obtain the source names for reference\n",
    "my_tweet_df[\"tweet_source\"].unique()"
   ]
  },
  {
   "cell_type": "code",
   "execution_count": 60,
   "metadata": {},
   "outputs": [
    {
     "data": {
      "text/html": [
       "<div>\n",
       "<style scoped>\n",
       "    .dataframe tbody tr th:only-of-type {\n",
       "        vertical-align: middle;\n",
       "    }\n",
       "\n",
       "    .dataframe tbody tr th {\n",
       "        vertical-align: top;\n",
       "    }\n",
       "\n",
       "    .dataframe thead th {\n",
       "        text-align: right;\n",
       "    }\n",
       "</style>\n",
       "<table border=\"1\" class=\"dataframe\">\n",
       "  <thead>\n",
       "    <tr style=\"text-align: right;\">\n",
       "      <th></th>\n",
       "      <th>tweet_vader_score</th>\n",
       "      <th>tweet_neg_score</th>\n",
       "      <th>tweet_pos_score</th>\n",
       "      <th>tweet_neu_score</th>\n",
       "      <th>tweet_source</th>\n",
       "      <th>tweet_text</th>\n",
       "      <th>tweet_date</th>\n",
       "    </tr>\n",
       "  </thead>\n",
       "  <tbody>\n",
       "    <tr>\n",
       "      <th>0</th>\n",
       "      <td>0.6476</td>\n",
       "      <td>0.00</td>\n",
       "      <td>0.209</td>\n",
       "      <td>0.791</td>\n",
       "      <td>fantastic ms.</td>\n",
       "      <td>Excited to be going to @xoxo this year with @b...</td>\n",
       "      <td>2018-07-06 23:22:17</td>\n",
       "    </tr>\n",
       "    <tr>\n",
       "      <th>1</th>\n",
       "      <td>0.0000</td>\n",
       "      <td>0.00</td>\n",
       "      <td>0.000</td>\n",
       "      <td>1.000</td>\n",
       "      <td>fantastic ms.</td>\n",
       "      <td>@jilljubs Omg me too but I’m also afraid</td>\n",
       "      <td>2018-07-07 15:23:42</td>\n",
       "    </tr>\n",
       "    <tr>\n",
       "      <th>2</th>\n",
       "      <td>0.5499</td>\n",
       "      <td>0.32</td>\n",
       "      <td>0.346</td>\n",
       "      <td>0.334</td>\n",
       "      <td>fantastic ms.</td>\n",
       "      <td>Horribly jet lagged and battling anxiety, but ...</td>\n",
       "      <td>2018-07-08 17:34:51</td>\n",
       "    </tr>\n",
       "    <tr>\n",
       "      <th>3</th>\n",
       "      <td>0.0772</td>\n",
       "      <td>0.00</td>\n",
       "      <td>0.067</td>\n",
       "      <td>0.933</td>\n",
       "      <td>fantastic ms.</td>\n",
       "      <td>@amyngyn tbh I specifically look for “healthy”...</td>\n",
       "      <td>2018-07-08 17:37:47</td>\n",
       "    </tr>\n",
       "    <tr>\n",
       "      <th>4</th>\n",
       "      <td>0.5550</td>\n",
       "      <td>0.00</td>\n",
       "      <td>0.193</td>\n",
       "      <td>0.807</td>\n",
       "      <td>fantastic ms.</td>\n",
       "      <td>@mattopsahl Oh! I did go to the Boston Common ...</td>\n",
       "      <td>2018-07-08 17:39:19</td>\n",
       "    </tr>\n",
       "  </tbody>\n",
       "</table>\n",
       "</div>"
      ],
      "text/plain": [
       "   tweet_vader_score  tweet_neg_score  tweet_pos_score  tweet_neu_score  \\\n",
       "0             0.6476             0.00            0.209            0.791   \n",
       "1             0.0000             0.00            0.000            1.000   \n",
       "2             0.5499             0.32            0.346            0.334   \n",
       "3             0.0772             0.00            0.067            0.933   \n",
       "4             0.5550             0.00            0.193            0.807   \n",
       "\n",
       "    tweet_source                                         tweet_text  \\\n",
       "0  fantastic ms.  Excited to be going to @xoxo this year with @b...   \n",
       "1  fantastic ms.           @jilljubs Omg me too but I’m also afraid   \n",
       "2  fantastic ms.  Horribly jet lagged and battling anxiety, but ...   \n",
       "3  fantastic ms.  @amyngyn tbh I specifically look for “healthy”...   \n",
       "4  fantastic ms.  @mattopsahl Oh! I did go to the Boston Common ...   \n",
       "\n",
       "           tweet_date  \n",
       "0 2018-07-06 23:22:17  \n",
       "1 2018-07-07 15:23:42  \n",
       "2 2018-07-08 17:34:51  \n",
       "3 2018-07-08 17:37:47  \n",
       "4 2018-07-08 17:39:19  "
      ]
     },
     "execution_count": 60,
     "metadata": {},
     "output_type": "execute_result"
    }
   ],
   "source": [
    "# Convert dates (currently strings) into datetimes\n",
    "my_tweet_df[\"tweet_date\"] = pd.to_datetime(my_tweet_df[\"tweet_date\"])\n",
    "\n",
    "# Sort the dataframe by date\n",
    "my_tweet_df.sort_values(\"tweet_date\", inplace=True)\n",
    "my_tweet_df.reset_index(drop=True, inplace=True)\n",
    "\n",
    "# Preview the data to confirm data is sorted\n",
    "\n",
    "my_tweet_df.head()"
   ]
  },
  {
   "cell_type": "markdown",
   "metadata": {},
   "source": [
    "# Overall Sentimental Analysis using Seaborn and Numpy "
   ]
  },
  {
   "cell_type": "code",
   "execution_count": 64,
   "metadata": {},
   "outputs": [
    {
     "data": {
      "text/plain": [
       "<matplotlib.axes._subplots.AxesSubplot at 0x12055e5f8>"
      ]
     },
     "execution_count": 64,
     "metadata": {},
     "output_type": "execute_result"
    },
    {
     "data": {
      "image/png": "[encoded data removed]",
      "text/plain": [
       "<Figure size 432x288 with 1 Axes>"
      ]
     },
     "metadata": {},
     "output_type": "display_data"
    }
   ],
   "source": [
    "sns.barplot(x=\"tweet_source\",y=\"tweet_vader_score\",data= my_tweet_df,estimator=np.mean)"
   ]
  },
  {
   "cell_type": "code",
   "execution_count": 65,
   "metadata": {},
   "outputs": [
    {
     "data": {
      "text/html": [
       "<div>\n",
       "<style scoped>\n",
       "    .dataframe tbody tr th:only-of-type {\n",
       "        vertical-align: middle;\n",
       "    }\n",
       "\n",
       "    .dataframe tbody tr th {\n",
       "        vertical-align: top;\n",
       "    }\n",
       "\n",
       "    .dataframe thead th {\n",
       "        text-align: right;\n",
       "    }\n",
       "</style>\n",
       "<table border=\"1\" class=\"dataframe\">\n",
       "  <thead>\n",
       "    <tr style=\"text-align: right;\">\n",
       "      <th></th>\n",
       "      <th>tweet_vader_score</th>\n",
       "    </tr>\n",
       "    <tr>\n",
       "      <th>tweet_source</th>\n",
       "      <th></th>\n",
       "    </tr>\n",
       "  </thead>\n",
       "  <tbody>\n",
       "    <tr>\n",
       "      <th>BBC News (World)</th>\n",
       "      <td>-0.175797</td>\n",
       "    </tr>\n",
       "    <tr>\n",
       "      <th>CBS News</th>\n",
       "      <td>-0.184360</td>\n",
       "    </tr>\n",
       "    <tr>\n",
       "      <th>CNN</th>\n",
       "      <td>-0.131053</td>\n",
       "    </tr>\n",
       "    <tr>\n",
       "      <th>The New York Times</th>\n",
       "      <td>-0.056498</td>\n",
       "    </tr>\n",
       "    <tr>\n",
       "      <th>fantastic ms.</th>\n",
       "      <td>0.289490</td>\n",
       "    </tr>\n",
       "  </tbody>\n",
       "</table>\n",
       "</div>"
      ],
      "text/plain": [
       "                    tweet_vader_score\n",
       "tweet_source                         \n",
       "BBC News (World)            -0.175797\n",
       "CBS News                    -0.184360\n",
       "CNN                         -0.131053\n",
       "The New York Times          -0.056498\n",
       "fantastic ms.                0.289490"
      ]
     },
     "execution_count": 65,
     "metadata": {},
     "output_type": "execute_result"
    }
   ],
   "source": [
    "# In Pandas DF\n",
    "# Average all polarities by news source\n",
    "tweet_df_polarity = my_tweet_df.groupby([\"tweet_source\"]).mean()[\"tweet_vader_score\"]\n",
    "\n",
    "# View the polarities\n",
    "pd.DataFrame(tweet_df_polarity)"
   ]
  },
  {
   "cell_type": "code",
   "execution_count": 150,
   "metadata": {
    "scrolled": false
   },
   "outputs": [
    {
     "data": {
      "image/png": "[encoded data removed]",
      "text/plain": [
       "<Figure size 432x288 with 1 Axes>"
      ]
     },
     "metadata": {},
     "output_type": "display_data"
    }
   ],
   "source": [
    "# Scatter plots using seaborn\n",
    "\n",
    "\n",
    "sns.regplot(x = np.arange(-len(my_tweet_df[my_tweet_df[\"tweet_source\"] == \"BBC News (World)\"]), 0, 1),y=my_tweet_df[my_tweet_df[\"tweet_source\"] == \"BBC News (World)\"][\"tweet_vader_score\"],fit_reg=False,marker = \"o\",scatter_kws={\"color\":\"darkred\",\"alpha\":0.8,\"s\":100})\n",
    "ax = plt.gca()\n",
    "ax.set_title(\"Sentiment Analysis (BBC)\",fontsize = 12)\n",
    "plt.savefig('Sentiment_BBC.png')"
   ]
  },
  {
   "cell_type": "code",
   "execution_count": 139,
   "metadata": {},
   "outputs": [
    {
     "data": {
      "image/png": "[encoded data removed]",
      "text/plain": [
       "<Figure size 432x288 with 1 Axes>"
      ]
     },
     "metadata": {},
     "output_type": "display_data"
    }
   ],
   "source": [
    "sns.regplot(x = np.arange(-len(my_tweet_df[my_tweet_df[\"tweet_source\"] == \"CBS News\"]), 0, 1),y=my_tweet_df[my_tweet_df[\"tweet_source\"] == \"CBS News\"][\"tweet_vader_score\"],fit_reg=False,marker = \"+\",scatter_kws={\"color\":\"skyblue\",\"alpha\":0.8,\"s\":100})\n",
    "ax = plt.gca()\n",
    "ax.set_title(\"Sentiment Analysis (CBS News)\",fontsize = 12)\n",
    "plt.savefig('Sentiment_CBS.png')"
   ]
  },
  {
   "cell_type": "code",
   "execution_count": 140,
   "metadata": {},
   "outputs": [
    {
     "data": {
      "image/png": "[encoded data removed]",
      "text/plain": [
       "<Figure size 432x288 with 1 Axes>"
      ]
     },
     "metadata": {},
     "output_type": "display_data"
    }
   ],
   "source": [
    "sns.regplot(x = np.arange(-len(my_tweet_df[my_tweet_df[\"tweet_source\"] == \"CNN\"]), 0, 1),y=my_tweet_df[my_tweet_df[\"tweet_source\"] == \"CNN\"][\"tweet_vader_score\"],fit_reg=False,marker = \"^\",scatter_kws={\"color\":\"purple\",\"alpha\":0.8,\"s\":100})\n",
    "ax = plt.gca()\n",
    "ax.set_title(\"Sentiment Analysis (CNN News)\",fontsize = 12)\n",
    "plt.savefig('Sentiment_CNN.png')"
   ]
  },
  {
   "cell_type": "code",
   "execution_count": 146,
   "metadata": {
    "scrolled": true
   },
   "outputs": [
    {
     "data": {
      "image/png": "[encoded data removed]",
      "text/plain": [
       "<Figure size 432x288 with 1 Axes>"
      ]
     },
     "metadata": {},
     "output_type": "display_data"
    }
   ],
   "source": [
    "sns.regplot(x = np.arange(-len(my_tweet_df[my_tweet_df[\"tweet_source\"] == \"The New York Times\"]), 0, 1),y=my_tweet_df[my_tweet_df[\"tweet_source\"] == \"fantastic ms.\"][\"tweet_vader_score\"],fit_reg=False,marker = \"*\",scatter_kws={\"color\":\"orange\",\"alpha\":0.8,\"s\":100})\n",
    "ax = plt.gca()\n",
    "ax.set_title(\"Sentiment Analysis (The New York Time)\",fontsize = 12)\n",
    "plt.savefig('Sentiment_The_Ny_Times.png')"
   ]
  },
  {
   "cell_type": "code",
   "execution_count": 147,
   "metadata": {
    "scrolled": true
   },
   "outputs": [
    {
     "data": {
      "text/plain": [
       "Text(0.5,1,'Sentiment Analysis (fantastic ms.)')"
      ]
     },
     "execution_count": 147,
     "metadata": {},
     "output_type": "execute_result"
    },
    {
     "data": {
      "image/png": "[encoded data removed]",
      "text/plain": [
       "<Figure size 432x288 with 1 Axes>"
      ]
     },
     "metadata": {},
     "output_type": "display_data"
    }
   ],
   "source": [
    "sns.regplot(x = np.arange(-len(my_tweet_df[my_tweet_df[\"tweet_source\"] == \"fantastic ms.\"]), 0, 1),y=my_tweet_df[my_tweet_df[\"tweet_source\"] == \"fantastic ms.\"][\"tweet_vader_score\"],fit_reg=False,marker = \"o\",scatter_kws={\"color\":\"teal\",\"alpha\":0.8,\"s\":100})\n",
    "ax = plt.gca()\n",
    "ax.set_title(\"Sentiment Analysis (fantastic ms.)\",fontsize = 12)"
   ]
  },
  {
   "cell_type": "code",
   "execution_count": 148,
   "metadata": {},
   "outputs": [
    {
     "data": {
      "text/plain": [
       "<Figure size 432x288 with 0 Axes>"
      ]
     },
     "metadata": {},
     "output_type": "display_data"
    }
   ],
   "source": [
    "plt.savefig('Sentiment_fantastic ms.png')"
   ]
  },
  {
   "cell_type": "code",
   "execution_count": null,
   "metadata": {
    "scrolled": true
   },
   "outputs": [],
   "source": []
  },
  {
   "cell_type": "markdown",
   "metadata": {},
   "source": []
  },
  {
   "cell_type": "code",
   "execution_count": null,
   "metadata": {},
   "outputs": [],
   "source": []
  },
  {
   "cell_type": "code",
   "execution_count": null,
   "metadata": {
    "scrolled": false
   },
   "outputs": [],
   "source": []
  },
  {
   "cell_type": "code",
   "execution_count": null,
   "metadata": {},
   "outputs": [],
   "source": []
  }
 ],
 "metadata": {
  "anaconda-cloud": {},
  "kernel_info": {
   "name": "py36"
  },
  "kernelspec": {
   "display_name": "Python 3",
   "language": "python",
   "name": "python3"
  },
  "language_info": {
   "codemirror_mode": {
    "name": "ipython",
    "version": 3
   },
   "file_extension": ".py",
   "mimetype": "text/x-python",
   "name": "python",
   "nbconvert_exporter": "python",
   "pygments_lexer": "ipython3",
   "version": "3.6.5"
  },
  "nteract": {
   "version": "0.2.0"
  }
 },
 "nbformat": 4,
 "nbformat_minor": 1
}
